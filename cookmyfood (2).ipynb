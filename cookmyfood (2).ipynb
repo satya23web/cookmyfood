{
  "cells": [
    {
      "cell_type": "code",
      "source": [],
      "metadata": {
        "colab": {
          "base_uri": "https://localhost:8080/"
        },
        "id": "n4vGbf5pzxyg",
        "outputId": "1faf03bf-fe00-4241-8dfd-2f0fb4ce78fe"
      },
      "execution_count": null,
      "outputs": [
        {
          "output_type": "stream",
          "name": "stdout",
          "text": [
            " * Serving Flask app '__main__'\n",
            " * Debug mode: on\n"
          ]
        },
        {
          "output_type": "stream",
          "name": "stderr",
          "text": [
            "INFO:werkzeug:\u001b[31m\u001b[1mWARNING: This is a development server. Do not use it in a production deployment. Use a production WSGI server instead.\u001b[0m\n",
            " * Running on http://127.0.0.1:5000\n",
            "INFO:werkzeug:\u001b[33mPress CTRL+C to quit\u001b[0m\n",
            "INFO:werkzeug: * Restarting with stat\n"
          ]
        }
      ]
    },
    {
      "cell_type": "code",
      "source": [],
      "metadata": {
        "id": "7T78OjshCLQ6"
      },
      "execution_count": null,
      "outputs": []
    },
    {
      "cell_type": "code",
      "source": [
        "!ngrok authtoken 2xuatcbmHbDx33buojBGNGUkDGn_4ovYEiwmVDLXDwBC4eFFc"
      ],
      "metadata": {
        "colab": {
          "base_uri": "https://localhost:8080/"
        },
        "id": "222MoZhjAoRO",
        "outputId": "d0583a55-b9a2-4df9-d6fc-229c2fe163c4"
      },
      "execution_count": null,
      "outputs": [
        {
          "output_type": "stream",
          "name": "stdout",
          "text": [
            "/bin/bash: line 1: ngrok: command not found\n"
          ]
        }
      ]
    },
    {
      "cell_type": "code",
      "source": [],
      "metadata": {
        "id": "HWdoxcY2EEbt"
      },
      "execution_count": null,
      "outputs": []
    },
    {
      "cell_type": "markdown",
      "source": [
        "new ways\n"
      ],
      "metadata": {
        "id": "3SxQlWiZnSHk"
      }
    },
    {
      "cell_type": "markdown",
      "source": [
        "now webpage side page"
      ],
      "metadata": {
        "id": "7OpzGlXcx7oV"
      }
    },
    {
      "cell_type": "code",
      "source": [
        "SPOONACULAR_API_KEY = \"33323d39b2d54c42ba326fc2ec35cf32\""
      ],
      "metadata": {
        "id": "DhfXxdbtn5ws"
      },
      "execution_count": null,
      "outputs": []
    },
    {
      "cell_type": "code",
      "source": [
        "!pip install streamlit"
      ],
      "metadata": {
        "colab": {
          "base_uri": "https://localhost:8080/"
        },
        "id": "MYaVysKPyIEy",
        "outputId": "cca31e28-7b44-48b1-8145-7ac2356e0e57"
      },
      "execution_count": null,
      "outputs": [
        {
          "output_type": "stream",
          "name": "stdout",
          "text": [
            "Collecting streamlit\n",
            "  Downloading streamlit-1.45.1-py3-none-any.whl.metadata (8.9 kB)\n",
            "Requirement already satisfied: altair<6,>=4.0 in /usr/local/lib/python3.11/dist-packages (from streamlit) (5.5.0)\n",
            "Requirement already satisfied: blinker<2,>=1.5.0 in /usr/local/lib/python3.11/dist-packages (from streamlit) (1.9.0)\n",
            "Requirement already satisfied: cachetools<6,>=4.0 in /usr/local/lib/python3.11/dist-packages (from streamlit) (5.5.2)\n",
            "Requirement already satisfied: click<9,>=7.0 in /usr/local/lib/python3.11/dist-packages (from streamlit) (8.2.1)\n",
            "Requirement already satisfied: numpy<3,>=1.23 in /usr/local/lib/python3.11/dist-packages (from streamlit) (2.0.2)\n",
            "Requirement already satisfied: packaging<25,>=20 in /usr/local/lib/python3.11/dist-packages (from streamlit) (24.2)\n",
            "Requirement already satisfied: pandas<3,>=1.4.0 in /usr/local/lib/python3.11/dist-packages (from streamlit) (2.2.2)\n",
            "Requirement already satisfied: pillow<12,>=7.1.0 in /usr/local/lib/python3.11/dist-packages (from streamlit) (11.2.1)\n",
            "Requirement already satisfied: protobuf<7,>=3.20 in /usr/local/lib/python3.11/dist-packages (from streamlit) (5.29.4)\n",
            "Requirement already satisfied: pyarrow>=7.0 in /usr/local/lib/python3.11/dist-packages (from streamlit) (18.1.0)\n",
            "Requirement already satisfied: requests<3,>=2.27 in /usr/local/lib/python3.11/dist-packages (from streamlit) (2.32.3)\n",
            "Requirement already satisfied: tenacity<10,>=8.1.0 in /usr/local/lib/python3.11/dist-packages (from streamlit) (9.1.2)\n",
            "Requirement already satisfied: toml<2,>=0.10.1 in /usr/local/lib/python3.11/dist-packages (from streamlit) (0.10.2)\n",
            "Requirement already satisfied: typing-extensions<5,>=4.4.0 in /usr/local/lib/python3.11/dist-packages (from streamlit) (4.13.2)\n",
            "Collecting watchdog<7,>=2.1.5 (from streamlit)\n",
            "  Downloading watchdog-6.0.0-py3-none-manylinux2014_x86_64.whl.metadata (44 kB)\n",
            "\u001b[2K     \u001b[90m━━━━━━━━━━━━━━━━━━━━━━━━━━━━━━━━━━━━━━━━\u001b[0m \u001b[32m44.3/44.3 kB\u001b[0m \u001b[31m2.0 MB/s\u001b[0m eta \u001b[36m0:00:00\u001b[0m\n",
            "\u001b[?25hRequirement already satisfied: gitpython!=3.1.19,<4,>=3.0.7 in /usr/local/lib/python3.11/dist-packages (from streamlit) (3.1.44)\n",
            "Collecting pydeck<1,>=0.8.0b4 (from streamlit)\n",
            "  Downloading pydeck-0.9.1-py2.py3-none-any.whl.metadata (4.1 kB)\n",
            "Requirement already satisfied: tornado<7,>=6.0.3 in /usr/local/lib/python3.11/dist-packages (from streamlit) (6.4.2)\n",
            "Requirement already satisfied: jinja2 in /usr/local/lib/python3.11/dist-packages (from altair<6,>=4.0->streamlit) (3.1.6)\n",
            "Requirement already satisfied: jsonschema>=3.0 in /usr/local/lib/python3.11/dist-packages (from altair<6,>=4.0->streamlit) (4.23.0)\n",
            "Requirement already satisfied: narwhals>=1.14.2 in /usr/local/lib/python3.11/dist-packages (from altair<6,>=4.0->streamlit) (1.40.0)\n",
            "Requirement already satisfied: gitdb<5,>=4.0.1 in /usr/local/lib/python3.11/dist-packages (from gitpython!=3.1.19,<4,>=3.0.7->streamlit) (4.0.12)\n",
            "Requirement already satisfied: python-dateutil>=2.8.2 in /usr/local/lib/python3.11/dist-packages (from pandas<3,>=1.4.0->streamlit) (2.9.0.post0)\n",
            "Requirement already satisfied: pytz>=2020.1 in /usr/local/lib/python3.11/dist-packages (from pandas<3,>=1.4.0->streamlit) (2025.2)\n",
            "Requirement already satisfied: tzdata>=2022.7 in /usr/local/lib/python3.11/dist-packages (from pandas<3,>=1.4.0->streamlit) (2025.2)\n",
            "Requirement already satisfied: charset-normalizer<4,>=2 in /usr/local/lib/python3.11/dist-packages (from requests<3,>=2.27->streamlit) (3.4.2)\n",
            "Requirement already satisfied: idna<4,>=2.5 in /usr/local/lib/python3.11/dist-packages (from requests<3,>=2.27->streamlit) (3.10)\n",
            "Requirement already satisfied: urllib3<3,>=1.21.1 in /usr/local/lib/python3.11/dist-packages (from requests<3,>=2.27->streamlit) (2.4.0)\n",
            "Requirement already satisfied: certifi>=2017.4.17 in /usr/local/lib/python3.11/dist-packages (from requests<3,>=2.27->streamlit) (2025.4.26)\n",
            "Requirement already satisfied: smmap<6,>=3.0.1 in /usr/local/lib/python3.11/dist-packages (from gitdb<5,>=4.0.1->gitpython!=3.1.19,<4,>=3.0.7->streamlit) (5.0.2)\n",
            "Requirement already satisfied: MarkupSafe>=2.0 in /usr/local/lib/python3.11/dist-packages (from jinja2->altair<6,>=4.0->streamlit) (3.0.2)\n",
            "Requirement already satisfied: attrs>=22.2.0 in /usr/local/lib/python3.11/dist-packages (from jsonschema>=3.0->altair<6,>=4.0->streamlit) (25.3.0)\n",
            "Requirement already satisfied: jsonschema-specifications>=2023.03.6 in /usr/local/lib/python3.11/dist-packages (from jsonschema>=3.0->altair<6,>=4.0->streamlit) (2025.4.1)\n",
            "Requirement already satisfied: referencing>=0.28.4 in /usr/local/lib/python3.11/dist-packages (from jsonschema>=3.0->altair<6,>=4.0->streamlit) (0.36.2)\n",
            "Requirement already satisfied: rpds-py>=0.7.1 in /usr/local/lib/python3.11/dist-packages (from jsonschema>=3.0->altair<6,>=4.0->streamlit) (0.25.1)\n",
            "Requirement already satisfied: six>=1.5 in /usr/local/lib/python3.11/dist-packages (from python-dateutil>=2.8.2->pandas<3,>=1.4.0->streamlit) (1.17.0)\n",
            "Downloading streamlit-1.45.1-py3-none-any.whl (9.9 MB)\n",
            "\u001b[2K   \u001b[90m━━━━━━━━━━━━━━━━━━━━━━━━━━━━━━━━━━━━━━━━\u001b[0m \u001b[32m9.9/9.9 MB\u001b[0m \u001b[31m38.5 MB/s\u001b[0m eta \u001b[36m0:00:00\u001b[0m\n",
            "\u001b[?25hDownloading pydeck-0.9.1-py2.py3-none-any.whl (6.9 MB)\n",
            "\u001b[2K   \u001b[90m━━━━━━━━━━━━━━━━━━━━━━━━━━━━━━━━━━━━━━━━\u001b[0m \u001b[32m6.9/6.9 MB\u001b[0m \u001b[31m55.3 MB/s\u001b[0m eta \u001b[36m0:00:00\u001b[0m\n",
            "\u001b[?25hDownloading watchdog-6.0.0-py3-none-manylinux2014_x86_64.whl (79 kB)\n",
            "\u001b[2K   \u001b[90m━━━━━━━━━━━━━━━━━━━━━━━━━━━━━━━━━━━━━━━━\u001b[0m \u001b[32m79.1/79.1 kB\u001b[0m \u001b[31m4.7 MB/s\u001b[0m eta \u001b[36m0:00:00\u001b[0m\n",
            "\u001b[?25hInstalling collected packages: watchdog, pydeck, streamlit\n",
            "Successfully installed pydeck-0.9.1 streamlit-1.45.1 watchdog-6.0.0\n"
          ]
        }
      ]
    },
    {
      "cell_type": "code",
      "source": [
        "import streamlit as st\n",
        "import requests\n",
        "import json\n",
        "st.set_page_config(page_title=\"Python Recipe Finder\", layout=\"centered\")\n",
        "\n",
        "st.title(\"🍜 Python Recipe Finder\")\n",
        "\n",
        "# --- Configuration ---\n",
        "# Get API key from Streamlit secrets\n",
        "# Ensure you have a .streamlit/secrets.toml file in your app's root directory\n",
        "# containing: SPOONACULAR_API_KEY = \"YOUR_ACTUAL_SPOONACULAR_API_KEY_HERE\"\n",
        "API_KEY = st.secrets[\"SPOONACULAR_API_KEY\"] # This is the correct way to access it\n",
        "BASE_URL = \"https://api.spoonacular.com/\"\n",
        "\n",
        "# --- Spoonacular API Functions ---\n",
        "\n",
        "def search_recipes(query, number=10):\n",
        "    \"\"\"Searches for recipes by name.\"\"\"\n",
        "    endpoint = \"recipes/complexSearch\"\n",
        "    params = {\n",
        "        \"query\": query,\n",
        "        \"number\": number,\n",
        "        \"apiKey\": API_KEY\n",
        "    }\n",
        "    try:\n",
        "        response = requests.get(f\"{BASE_URL}{endpoint}\", params=params)\n",
        "        response.raise_for_status() # Raise an exception for HTTP errors\n",
        "        return response.json().get(\"results\", [])\n",
        "    except requests.exceptions.RequestException as e:\n",
        "        st.error(f\"Error searching for recipes: {e}\")\n",
        "        return []\n",
        "\n",
        "def get_recipe_details(recipe_id):\n",
        "    \"\"\"Fetches detailed information for a specific recipe.\"\"\"\n",
        "    endpoint = f\"recipes/{recipe_id}/information\"\n",
        "    params = {\n",
        "        \"includeNutrition\": True, # Get nutrition data for calories\n",
        "        \"apiKey\": API_KEY\n",
        "    }\n",
        "    try:\n",
        "        response = requests.get(f\"{BASE_URL}{endpoint}\", params=params)\n",
        "        response.raise_for_status()\n",
        "        return response.json()\n",
        "    except requests.exceptions.RequestException as e:\n",
        "        st.error(f\"Error fetching recipe details: {e}\")\n",
        "        return None\n",
        "\n",
        "# --- Streamlit UI Layout ---\n",
        "\n",
        "# Input for recipe name\n",
        "recipe_name_input = st.text_input(\n",
        "    \"Enter a recipe name (e.g., pasta, chicken soup)\",\n",
        "    key=\"recipe_name_input\"\n",
        ")\n",
        "\n",
        "# Search button\n",
        "if st.button(\"Search Recipes\"):\n",
        "    if recipe_name_input:\n",
        "        st.session_state.search_query = recipe_name_input # Store query in session state\n",
        "        st.session_state.current_page = \"search_results\" # Navigate to search results\n",
        "        st.rerun() # Rerun the app to show results\n",
        "    else:\n",
        "        st.warning(\"Please enter a recipe name to search.\")\n",
        "\n",
        "# --- Navigation and Display Logic ---\n",
        "\n",
        "# Initialize session state for navigation if not already set\n",
        "if 'current_page' not in st.session_state:\n",
        "    st.session_state.current_page = \"search_input\" # Default page\n",
        "if 'search_query' not in st.session_state:\n",
        "    st.session_state.search_query = \"\"\n",
        "if 'selected_recipe_id' not in st.session_state:\n",
        "    st.session_state.selected_recipe_id = None\n",
        "\n",
        "\n",
        "# Display logic based on current_page in session state\n",
        "if st.session_state.current_page == \"search_results\":\n",
        "    if st.session_state.search_query:\n",
        "        st.subheader(f\"Search Results for '{st.session_state.search_query}'\")\n",
        "        recipes = search_recipes(st.session_state.search_query)\n",
        "\n",
        "        if recipes:\n",
        "            for recipe in recipes:\n",
        "                col1, col2 = st.columns([3, 1])\n",
        "                with col1:\n",
        "                    st.write(f\"**{recipe['title']}**\")\n",
        "                with col2:\n",
        "                    # Store selected recipe ID in session state and change page\n",
        "                    if st.button(\"View Details\", key=f\"view_{recipe['id']}\"):\n",
        "                        st.session_state.selected_recipe_id = recipe['id']\n",
        "                        st.session_state.current_page = \"recipe_details\"\n",
        "                        st.rerun() # Rerun to show details\n",
        "            st.markdown(\"---\") # Separator\n",
        "            if st.button(\"Back to Search Input\", key=\"back_to_input_from_results\"):\n",
        "                st.session_state.current_page = \"search_input\"\n",
        "                st.session_state.search_query = \"\"\n",
        "                st.rerun()\n",
        "        else:\n",
        "            st.info(\"No recipes found for your search. Try a different name.\")\n",
        "            if st.button(\"Back to Search Input\", key=\"back_to_input_no_results\"):\n",
        "                st.session_state.current_page = \"search_input\"\n",
        "                st.session_state.search_query = \"\"\n",
        "                st.rerun()\n",
        "    else: # If search_query is empty, go back to input state\n",
        "        st.session_state.current_page = \"search_input\"\n",
        "        st.rerun()\n",
        "\n",
        "elif st.session_state.current_page == \"recipe_details\":\n",
        "    if st.session_state.selected_recipe_id:\n",
        "        st.subheader(\"Recipe Details\")\n",
        "        details = get_recipe_details(st.session_state.selected_recipe_id)\n",
        "\n",
        "        if details:\n",
        "            st.markdown(f\"## {details.get('title', 'N/A')}\")\n",
        "            st.write(f\"**Preparation Time:** {details.get('readyInMinutes', 'N/A')} minutes\")\n",
        "            st.write(f\"**Servings:** {details.get('servings', 'N/A')}\")\n",
        "\n",
        "            # Extract Calories\n",
        "            calories = \"N/A\"\n",
        "            if details.get('nutrition') and details['nutrition'].get('nutrients'):\n",
        "                for nutrient in details['nutrition']['nutrients']:\n",
        "                    if nutrient.get('title') == 'Calories':\n",
        "                        calories = f\"{nutrient.get('amount', 'N/A')} {nutrient.get('unit', '')}\"\n",
        "                        break\n",
        "            st.write(f\"**Calories:** {calories}\")\n",
        "\n",
        "            if details.get('sourceUrl'):\n",
        "                st.markdown(f\"**Source:** [Link to Recipe]({details['sourceUrl']})\")\n",
        "\n",
        "            st.markdown(\"### Ingredients:\")\n",
        "            if details.get('extendedIngredients'):\n",
        "                ingredients_list = \"\\n\".join([f\"- {ing['original']}\" for ing in details['extendedIngredients']])\n",
        "                st.markdown(ingredients_list)\n",
        "            else:\n",
        "                st.info(\"No detailed ingredients available.\")\n",
        "\n",
        "            st.markdown(\"### Instructions:\")\n",
        "            if details.get('analyzedInstructions'):\n",
        "                # Handle structured steps\n",
        "                for instruction_set in details['analyzedInstructions']:\n",
        "                    steps_md = \"\"\n",
        "                    for step in instruction_set.get('steps', []):\n",
        "                        steps_md += f\"{step.get('number')}. {step.get('step')}\\n\"\n",
        "                    st.markdown(steps_md)\n",
        "            elif details.get('instructions'):\n",
        "                # Handle single string instructions (might be HTML)\n",
        "                st.markdown(details['instructions'], unsafe_allow_html=True) # Use unsafe_allow_html if instructions can contain HTML\n",
        "            else:\n",
        "                st.info(\"No detailed instructions available.\")\n",
        "        else:\n",
        "            st.warning(\"Could not load recipe details.\")\n",
        "\n",
        "        # Back button\n",
        "        if st.button(\"Back to Search Results\", key=\"back_to_results_from_details\"):\n",
        "            st.session_state.current_page = \"search_results\"\n",
        "            st.session_state.selected_recipe_id = None # Clear selected ID\n",
        "            st.rerun()\n",
        "    else: # If no recipe ID selected, go back to search results\n",
        "        st.session_state.current_page = \"search_results\"\n",
        "        st.rerun()\n",
        "\n",
        "# Default state if nothing is triggered yet\n",
        "elif st.session_state.current_page == \"search_input\":\n",
        "    st.info(\"Enter a recipe name above and click 'Search Recipes' to find recipes.\")"
      ],
      "metadata": {
        "colab": {
          "base_uri": "https://localhost:8080/",
          "height": 373
        },
        "id": "02IksORryDuC",
        "outputId": "ca910f48-314f-45f0-a878-7375bde91bb3"
      },
      "execution_count": null,
      "outputs": [
        {
          "output_type": "error",
          "ename": "StreamlitSecretNotFoundError",
          "evalue": "No secrets found. Valid paths for a secrets.toml file or secret directories are: /root/.streamlit/secrets.toml, /content/.streamlit/secrets.toml",
          "traceback": [
            "\u001b[0;31m---------------------------------------------------------------------------\u001b[0m",
            "\u001b[0;31mStreamlitSecretNotFoundError\u001b[0m              Traceback (most recent call last)",
            "\u001b[0;32m<ipython-input-17-6455a39ac456>\u001b[0m in \u001b[0;36m<cell line: 0>\u001b[0;34m()\u001b[0m\n\u001b[1;32m      7\u001b[0m \u001b[0;31m# Ensure you have a .streamlit/secrets.toml file in your app's root directory\u001b[0m\u001b[0;34m\u001b[0m\u001b[0;34m\u001b[0m\u001b[0m\n\u001b[1;32m      8\u001b[0m \u001b[0;31m# containing: SPOONACULAR_API_KEY = \"YOUR_ACTUAL_SPOONACULAR_API_KEY_HERE\"\u001b[0m\u001b[0;34m\u001b[0m\u001b[0;34m\u001b[0m\u001b[0m\n\u001b[0;32m----> 9\u001b[0;31m \u001b[0mAPI_KEY\u001b[0m \u001b[0;34m=\u001b[0m \u001b[0mst\u001b[0m\u001b[0;34m.\u001b[0m\u001b[0msecrets\u001b[0m\u001b[0;34m[\u001b[0m\u001b[0;34m\"SPOONACULAR_API_KEY\"\u001b[0m\u001b[0;34m]\u001b[0m \u001b[0;31m# This is the correct way to access it\u001b[0m\u001b[0;34m\u001b[0m\u001b[0;34m\u001b[0m\u001b[0m\n\u001b[0m\u001b[1;32m     10\u001b[0m \u001b[0mBASE_URL\u001b[0m \u001b[0;34m=\u001b[0m \u001b[0;34m\"https://api.spoonacular.com/\"\u001b[0m\u001b[0;34m\u001b[0m\u001b[0;34m\u001b[0m\u001b[0m\n\u001b[1;32m     11\u001b[0m \u001b[0;34m\u001b[0m\u001b[0m\n",
            "\u001b[0;32m/usr/local/lib/python3.11/dist-packages/streamlit/runtime/secrets.py\u001b[0m in \u001b[0;36m__getitem__\u001b[0;34m(self, key)\u001b[0m\n\u001b[1;32m    468\u001b[0m         \"\"\"\n\u001b[1;32m    469\u001b[0m         \u001b[0;32mtry\u001b[0m\u001b[0;34m:\u001b[0m\u001b[0;34m\u001b[0m\u001b[0;34m\u001b[0m\u001b[0m\n\u001b[0;32m--> 470\u001b[0;31m             \u001b[0mvalue\u001b[0m \u001b[0;34m=\u001b[0m \u001b[0mself\u001b[0m\u001b[0;34m.\u001b[0m\u001b[0m_parse\u001b[0m\u001b[0;34m(\u001b[0m\u001b[0;34m)\u001b[0m\u001b[0;34m[\u001b[0m\u001b[0mkey\u001b[0m\u001b[0;34m]\u001b[0m\u001b[0;34m\u001b[0m\u001b[0;34m\u001b[0m\u001b[0m\n\u001b[0m\u001b[1;32m    471\u001b[0m             \u001b[0;32mif\u001b[0m \u001b[0;32mnot\u001b[0m \u001b[0misinstance\u001b[0m\u001b[0;34m(\u001b[0m\u001b[0mvalue\u001b[0m\u001b[0;34m,\u001b[0m \u001b[0mMapping\u001b[0m\u001b[0;34m)\u001b[0m\u001b[0;34m:\u001b[0m\u001b[0;34m\u001b[0m\u001b[0;34m\u001b[0m\u001b[0m\n\u001b[1;32m    472\u001b[0m                 \u001b[0;32mreturn\u001b[0m \u001b[0mvalue\u001b[0m\u001b[0;34m\u001b[0m\u001b[0;34m\u001b[0m\u001b[0m\n",
            "\u001b[0;32m/usr/local/lib/python3.11/dist-packages/streamlit/runtime/secrets.py\u001b[0m in \u001b[0;36m_parse\u001b[0;34m(self)\u001b[0m\n\u001b[1;32m    370\u001b[0m                     )\n\u001b[1;32m    371\u001b[0m                 )\n\u001b[0;32m--> 372\u001b[0;31m                 \u001b[0;32mraise\u001b[0m \u001b[0mStreamlitSecretNotFoundError\u001b[0m\u001b[0;34m(\u001b[0m\u001b[0merror_msg\u001b[0m\u001b[0;34m)\u001b[0m\u001b[0;34m\u001b[0m\u001b[0;34m\u001b[0m\u001b[0m\n\u001b[0m\u001b[1;32m    373\u001b[0m \u001b[0;34m\u001b[0m\u001b[0m\n\u001b[1;32m    374\u001b[0m             \u001b[0;32mfor\u001b[0m \u001b[0mk\u001b[0m\u001b[0;34m,\u001b[0m \u001b[0mv\u001b[0m \u001b[0;32min\u001b[0m \u001b[0msecrets\u001b[0m\u001b[0;34m.\u001b[0m\u001b[0mitems\u001b[0m\u001b[0;34m(\u001b[0m\u001b[0;34m)\u001b[0m\u001b[0;34m:\u001b[0m\u001b[0;34m\u001b[0m\u001b[0;34m\u001b[0m\u001b[0m\n",
            "\u001b[0;31mStreamlitSecretNotFoundError\u001b[0m: No secrets found. Valid paths for a secrets.toml file or secret directories are: /root/.streamlit/secrets.toml, /content/.streamlit/secrets.toml"
          ]
        }
      ]
    },
    {
      "cell_type": "code",
      "source": [
        "# Install required libraries\n",
        "!pip install requests streamlit"
      ],
      "metadata": {
        "colab": {
          "base_uri": "https://localhost:8080/"
        },
        "id": "QcEaEAwqyO5w",
        "outputId": "2d618c2d-a608-41d5-ae46-f228b9baa13e"
      },
      "execution_count": null,
      "outputs": [
        {
          "output_type": "stream",
          "name": "stdout",
          "text": [
            "Requirement already satisfied: requests in /usr/local/lib/python3.11/dist-packages (2.32.3)\n",
            "Requirement already satisfied: streamlit in /usr/local/lib/python3.11/dist-packages (1.45.1)\n",
            "Requirement already satisfied: charset-normalizer<4,>=2 in /usr/local/lib/python3.11/dist-packages (from requests) (3.4.2)\n",
            "Requirement already satisfied: idna<4,>=2.5 in /usr/local/lib/python3.11/dist-packages (from requests) (3.10)\n",
            "Requirement already satisfied: urllib3<3,>=1.21.1 in /usr/local/lib/python3.11/dist-packages (from requests) (2.4.0)\n",
            "Requirement already satisfied: certifi>=2017.4.17 in /usr/local/lib/python3.11/dist-packages (from requests) (2025.4.26)\n",
            "Requirement already satisfied: altair<6,>=4.0 in /usr/local/lib/python3.11/dist-packages (from streamlit) (5.5.0)\n",
            "Requirement already satisfied: blinker<2,>=1.5.0 in /usr/local/lib/python3.11/dist-packages (from streamlit) (1.9.0)\n",
            "Requirement already satisfied: cachetools<6,>=4.0 in /usr/local/lib/python3.11/dist-packages (from streamlit) (5.5.2)\n",
            "Requirement already satisfied: click<9,>=7.0 in /usr/local/lib/python3.11/dist-packages (from streamlit) (8.2.1)\n",
            "Requirement already satisfied: numpy<3,>=1.23 in /usr/local/lib/python3.11/dist-packages (from streamlit) (2.0.2)\n",
            "Requirement already satisfied: packaging<25,>=20 in /usr/local/lib/python3.11/dist-packages (from streamlit) (24.2)\n",
            "Requirement already satisfied: pandas<3,>=1.4.0 in /usr/local/lib/python3.11/dist-packages (from streamlit) (2.2.2)\n",
            "Requirement already satisfied: pillow<12,>=7.1.0 in /usr/local/lib/python3.11/dist-packages (from streamlit) (11.2.1)\n",
            "Requirement already satisfied: protobuf<7,>=3.20 in /usr/local/lib/python3.11/dist-packages (from streamlit) (5.29.4)\n",
            "Requirement already satisfied: pyarrow>=7.0 in /usr/local/lib/python3.11/dist-packages (from streamlit) (18.1.0)\n",
            "Requirement already satisfied: tenacity<10,>=8.1.0 in /usr/local/lib/python3.11/dist-packages (from streamlit) (9.1.2)\n",
            "Requirement already satisfied: toml<2,>=0.10.1 in /usr/local/lib/python3.11/dist-packages (from streamlit) (0.10.2)\n",
            "Requirement already satisfied: typing-extensions<5,>=4.4.0 in /usr/local/lib/python3.11/dist-packages (from streamlit) (4.13.2)\n",
            "Requirement already satisfied: watchdog<7,>=2.1.5 in /usr/local/lib/python3.11/dist-packages (from streamlit) (6.0.0)\n",
            "Requirement already satisfied: gitpython!=3.1.19,<4,>=3.0.7 in /usr/local/lib/python3.11/dist-packages (from streamlit) (3.1.44)\n",
            "Requirement already satisfied: pydeck<1,>=0.8.0b4 in /usr/local/lib/python3.11/dist-packages (from streamlit) (0.9.1)\n",
            "Requirement already satisfied: tornado<7,>=6.0.3 in /usr/local/lib/python3.11/dist-packages (from streamlit) (6.4.2)\n",
            "Requirement already satisfied: jinja2 in /usr/local/lib/python3.11/dist-packages (from altair<6,>=4.0->streamlit) (3.1.6)\n",
            "Requirement already satisfied: jsonschema>=3.0 in /usr/local/lib/python3.11/dist-packages (from altair<6,>=4.0->streamlit) (4.23.0)\n",
            "Requirement already satisfied: narwhals>=1.14.2 in /usr/local/lib/python3.11/dist-packages (from altair<6,>=4.0->streamlit) (1.40.0)\n",
            "Requirement already satisfied: gitdb<5,>=4.0.1 in /usr/local/lib/python3.11/dist-packages (from gitpython!=3.1.19,<4,>=3.0.7->streamlit) (4.0.12)\n",
            "Requirement already satisfied: python-dateutil>=2.8.2 in /usr/local/lib/python3.11/dist-packages (from pandas<3,>=1.4.0->streamlit) (2.9.0.post0)\n",
            "Requirement already satisfied: pytz>=2020.1 in /usr/local/lib/python3.11/dist-packages (from pandas<3,>=1.4.0->streamlit) (2025.2)\n",
            "Requirement already satisfied: tzdata>=2022.7 in /usr/local/lib/python3.11/dist-packages (from pandas<3,>=1.4.0->streamlit) (2025.2)\n",
            "Requirement already satisfied: smmap<6,>=3.0.1 in /usr/local/lib/python3.11/dist-packages (from gitdb<5,>=4.0.1->gitpython!=3.1.19,<4,>=3.0.7->streamlit) (5.0.2)\n",
            "Requirement already satisfied: MarkupSafe>=2.0 in /usr/local/lib/python3.11/dist-packages (from jinja2->altair<6,>=4.0->streamlit) (3.0.2)\n",
            "Requirement already satisfied: attrs>=22.2.0 in /usr/local/lib/python3.11/dist-packages (from jsonschema>=3.0->altair<6,>=4.0->streamlit) (25.3.0)\n",
            "Requirement already satisfied: jsonschema-specifications>=2023.03.6 in /usr/local/lib/python3.11/dist-packages (from jsonschema>=3.0->altair<6,>=4.0->streamlit) (2025.4.1)\n",
            "Requirement already satisfied: referencing>=0.28.4 in /usr/local/lib/python3.11/dist-packages (from jsonschema>=3.0->altair<6,>=4.0->streamlit) (0.36.2)\n",
            "Requirement already satisfied: rpds-py>=0.7.1 in /usr/local/lib/python3.11/dist-packages (from jsonschema>=3.0->altair<6,>=4.0->streamlit) (0.25.1)\n",
            "Requirement already satisfied: six>=1.5 in /usr/local/lib/python3.11/dist-packages (from python-dateutil>=2.8.2->pandas<3,>=1.4.0->streamlit) (1.17.0)\n"
          ]
        }
      ]
    },
    {
      "cell_type": "code",
      "source": [
        "# Create the .streamlit directory\n",
        "!mkdir -p .streamlit\n",
        "\n",
        "# Create the secrets.toml file with your API key\n",
        "# Make sure to replace \"YOUR_ACTUAL_SPOONACULAR_API_KEY_HERE\" with your key!\n",
        "# The single quotes around the entire string for echo are important.\n",
        "!echo 'SPOONACULAR_API_KEY = \"33323d39b2d54c42ba326fc2ec35cf32\"' > .streamlit/secrets.toml\n",
        "\n",
        "# (Optional) Verify the content of the secrets.toml file\n",
        "print(\"Content of .streamlit/secrets.toml:\")\n",
        "!cat .streamlit/secrets.toml"
      ],
      "metadata": {
        "colab": {
          "base_uri": "https://localhost:8080/"
        },
        "id": "gFuY5evOzJq4",
        "outputId": "59639e88-cbb0-43c5-c54c-a348e2859ac7"
      },
      "execution_count": null,
      "outputs": [
        {
          "output_type": "stream",
          "name": "stdout",
          "text": [
            "Content of .streamlit/secrets.toml:\n",
            "SPOONACULAR_API_KEY = \"33323d39b2d54c42ba326fc2ec35cf32\"\n"
          ]
        }
      ]
    },
    {
      "cell_type": "code",
      "source": [
        "%%writefile recipe_app.py\n",
        "import streamlit as st\n",
        "import requests\n",
        "import json\n",
        "\n",
        "# --- Configuration ---\n",
        "# Get API key from Streamlit secrets\n",
        "API_KEY = st.secrets[\"SPOONACULAR_API_KEY\"] # This is the correct way to access it\n",
        "BASE_URL = \"https://api.spoonacular.com/\"\n",
        "\n",
        "# --- Spoonacular API Functions ---\n",
        "\n",
        "def search_recipes(query, number=10):\n",
        "    \"\"\"Searches for recipes by name.\"\"\"\n",
        "    endpoint = \"recipes/complexSearch\"\n",
        "    params = {\n",
        "        \"query\": query,\n",
        "        \"number\": number,\n",
        "        \"apiKey\": API_KEY\n",
        "    }\n",
        "    try:\n",
        "        response = requests.get(f\"{BASE_URL}{endpoint}\", params=params)\n",
        "        response.raise_for_status() # Raise an exception for HTTP errors\n",
        "        return response.json().get(\"results\", [])\n",
        "    except requests.exceptions.RequestException as e:\n",
        "        st.error(f\"Error searching for recipes: {e}\")\n",
        "        return []\n",
        "\n",
        "def get_recipe_details(recipe_id):\n",
        "    \"\"\"Fetches detailed information for a specific recipe.\"\"\"\n",
        "    endpoint = f\"recipes/{recipe_id}/information\"\n",
        "    params = {\n",
        "        \"includeNutrition\": True, # Get nutrition data for calories\n",
        "        \"apiKey\": API_KEY\n",
        "    }\n",
        "    try:\n",
        "        response = requests.get(f\"{BASE_URL}{endpoint}\", params=params)\n",
        "        response.raise_for_status()\n",
        "        return response.json()\n",
        "    except requests.exceptions.RequestException as e:\n",
        "        st.error(f\"Error fetching recipe details: {e}\")\n",
        "        return None\n",
        "\n",
        "# --- Streamlit UI Layout ---\n",
        "\n",
        "st.set_page_config(page_title=\"Python Recipe Finder\", layout=\"centered\")\n",
        "\n",
        "st.title(\"🍜 Python Recipe Finder\")\n",
        "\n",
        "# Input for recipe name\n",
        "recipe_name_input = st.text_input(\n",
        "    \"Enter a recipe name (e.g., pasta, chicken soup)\",\n",
        "    key=\"recipe_name_input\"\n",
        ")\n",
        "\n",
        "# Search button\n",
        "if st.button(\"Search Recipes\"):\n",
        "    if recipe_name_input:\n",
        "        st.session_state.search_query = recipe_name_input # Store query in session state\n",
        "        st.session_state.current_page = \"search_results\" # Navigate to search results\n",
        "        st.rerun() # Rerun the app to show results\n",
        "    else:\n",
        "        st.warning(\"Please enter a recipe name to search.\")\n",
        "\n",
        "# --- Navigation and Display Logic ---\n",
        "\n",
        "# Initialize session state for navigation if not already set\n",
        "if 'current_page' not in st.session_state:\n",
        "    st.session_state.current_page = \"search_input\" # Default page\n",
        "if 'search_query' not in st.session_state:\n",
        "    st.session_state.search_query = \"\"\n",
        "if 'selected_recipe_id' not in st.session_state:\n",
        "    st.session_state.selected_recipe_id = None\n",
        "\n",
        "\n",
        "# Display logic based on current_page in session state\n",
        "if st.session_state.current_page == \"search_results\":\n",
        "    if st.session_state.search_query:\n",
        "        st.subheader(f\"Search Results for '{st.session_state.search_query}'\")\n",
        "        recipes = search_recipes(st.session_state.search_query)\n",
        "\n",
        "        if recipes:\n",
        "            for recipe in recipes:\n",
        "                col1, col2 = st.columns([3, 1])\n",
        "                with col1:\n",
        "                    st.write(f\"**{recipe['title']}**\")\n",
        "                with col2:\n",
        "                    # Store selected recipe ID in session state and change page\n",
        "                    if st.button(\"View Details\", key=f\"view_{recipe['id']}\"):\n",
        "                        st.session_state.selected_recipe_id = recipe['id']\n",
        "                        st.session_state.current_page = \"recipe_details\"\n",
        "                        st.rerun() # Rerun to show details\n",
        "            st.markdown(\"---\") # Separator\n",
        "            if st.button(\"Back to Search Input\", key=\"back_to_input_from_results\"):\n",
        "                st.session_state.current_page = \"search_input\"\n",
        "                st.session_state.search_query = \"\"\n",
        "                st.rerun()\n",
        "        else:\n",
        "            st.info(\"No recipes found for your search. Try a different name.\")\n",
        "            if st.button(\"Back to Search Input\", key=\"back_to_input_no_results\"):\n",
        "                st.session_state.current_page = \"search_input\"\n",
        "                st.session_state.search_query = \"\"\n",
        "                st.rerun()\n",
        "    else: # If search_query is empty, go back to input state\n",
        "        st.session_state.current_page = \"search_input\"\n",
        "        st.rerun()\n",
        "\n",
        "elif st.session_state.current_page == \"recipe_details\":\n",
        "    if st.session_state.selected_recipe_id:\n",
        "        st.subheader(\"Recipe Details\")\n",
        "        details = get_recipe_details(st.session_state.selected_recipe_id)\n",
        "\n",
        "        if details:\n",
        "            st.markdown(f\"## {details.get('title', 'N/A')}\")\n",
        "            st.write(f\"**Preparation Time:** {details.get('readyInMinutes', 'N/A')} minutes\")\n",
        "            st.write(f\"**Servings:** {details.get('servings', 'N/A')}\")\n",
        "\n",
        "            # Extract Calories\n",
        "            calories = \"N/A\"\n",
        "            if details.get('nutrition') and details['nutrition'].get('nutrients'):\n",
        "                for nutrient in details['nutrition']['nutrients']:\n",
        "                    if nutrient.get('title') == 'Calories':\n",
        "                        calories = f\"{nutrient.get('amount', 'N/A')} {nutrient.get('unit', '')}\"\n",
        "                        break\n",
        "            st.write(f\"**Calories:** {calories}\")\n",
        "\n",
        "            if details.get('sourceUrl'):\n",
        "                st.markdown(f\"**Source:** [Link to Recipe]({details['sourceUrl']})\")\n",
        "\n",
        "            st.markdown(\"### Ingredients:\")\n",
        "            if details.get('extendedIngredients'):\n",
        "                ingredients_list = \"\\n\".join([f\"- {ing['original']}\" for ing in details['extendedIngredients']])\n",
        "                st.markdown(ingredients_list)\n",
        "            else:\n",
        "                st.info(\"No detailed ingredients available.\")\n",
        "\n",
        "            st.markdown(\"### Instructions:\")\n",
        "            if details.get('analyzedInstructions'):\n",
        "                # Handle structured steps\n",
        "                for instruction_set in details['analyzedInstructions']:\n",
        "                    steps_md = \"\"\n",
        "                    for step in instruction_set.get('steps', []):\n",
        "                        steps_md += f\"{step.get('number')}. {step.get('step')}\\n\"\n",
        "                    st.markdown(steps_md)\n",
        "            elif details.get('instructions'):\n",
        "                # Handle single string instructions (might be HTML)\n",
        "                st.markdown(details['instructions'], unsafe_allow_html=True) # Use unsafe_allow_html if instructions can contain HTML\n",
        "            else:\n",
        "                st.info(\"No detailed instructions available.\")\n",
        "        else:\n",
        "            st.warning(\"Could not load recipe details.\")\n",
        "\n",
        "        # Back button\n",
        "        if st.button(\"Back to Search Results\", key=\"back_to_results_from_details\"):\n",
        "            st.session_state.current_page = \"search_results\"\n",
        "            st.session_state.selected_recipe_id = None # Clear selected ID\n",
        "            st.rerun()\n",
        "    else: # If no recipe ID selected, go back to search results\n",
        "        st.session_state.current_page = \"search_results\"\n",
        "        st.rerun()\n",
        "\n",
        "# Default state if nothing is triggered yet\n",
        "elif st.session_state.current_page == \"search_input\":\n",
        "    st.info(\"Enter a recipe name above and click 'Search Recipes' to find recipes.\")"
      ],
      "metadata": {
        "colab": {
          "base_uri": "https://localhost:8080/"
        },
        "id": "QkbCxW9_zQNb",
        "outputId": "03f2fd77-b069-456b-8fc1-130287e0d429"
      },
      "execution_count": null,
      "outputs": [
        {
          "output_type": "stream",
          "name": "stdout",
          "text": [
            "Writing recipe_app.py\n"
          ]
        }
      ]
    },
    {
      "cell_type": "code",
      "source": [
        "# Run the Streamlit app\n",
        "!streamlit run recipe_app.py &>/dev/null& npx localtunnel --port 8501"
      ],
      "metadata": {
        "colab": {
          "base_uri": "https://localhost:8080/"
        },
        "id": "jo50rc_IzT8Z",
        "outputId": "bf4247ec-d803-40f5-8b77-8f90a590e28d"
      },
      "execution_count": null,
      "outputs": [
        {
          "output_type": "stream",
          "name": "stdout",
          "text": [
            "\u001b[1G\u001b[0K⠙\u001b[1G\u001b[0K⠹\u001b[1G\u001b[0K⠸\u001b[1G\u001b[0K⠼\u001b[1G\u001b[0K⠴\u001b[1G\u001b[0K⠦\u001b[1G\u001b[0K⠧\u001b[1G\u001b[0K\u001b[1G\u001b[0JNeed to install the following packages:\n",
            "localtunnel@2.0.2\n",
            "Ok to proceed? (y) \u001b[20Gy\n",
            "\n",
            "\u001b[1G\u001b[0K⠙\u001b[1G\u001b[0K⠹\u001b[1G\u001b[0K⠸\u001b[1G\u001b[0K⠼\u001b[1G\u001b[0K⠴\u001b[1G\u001b[0K⠦\u001b[1G\u001b[0K⠧\u001b[1G\u001b[0K⠇\u001b[1G\u001b[0K⠏\u001b[1G\u001b[0K⠋\u001b[1G\u001b[0K⠙\u001b[1G\u001b[0K⠹\u001b[1G\u001b[0K⠸\u001b[1G\u001b[0K⠼\u001b[1G\u001b[0K⠴\u001b[1G\u001b[0K⠦\u001b[1G\u001b[0K⠧\u001b[1G\u001b[0K⠇\u001b[1G\u001b[0K⠏\u001b[1G\u001b[0K⠋\u001b[1G\u001b[0K⠙\u001b[1G\u001b[0K⠹\u001b[1G\u001b[0K⠸\u001b[1G\u001b[0K⠼\u001b[1G\u001b[0K⠴\u001b[1G\u001b[0K⠦\u001b[1G\u001b[0K⠧\u001b[1G\u001b[0Kyour url is: https://early-readers-beam.loca.lt\n",
            "^C\n"
          ]
        }
      ]
    },
    {
      "cell_type": "code",
      "source": [
        "# Install required libraries\n",
        "!pip install requests streamlit pyngrok"
      ],
      "metadata": {
        "colab": {
          "base_uri": "https://localhost:8080/"
        },
        "id": "iC8ikNkvzYjd",
        "outputId": "527c6d32-c587-41a6-e2c4-1f3334f22772"
      },
      "execution_count": null,
      "outputs": [
        {
          "output_type": "stream",
          "name": "stdout",
          "text": [
            "Requirement already satisfied: requests in /usr/local/lib/python3.11/dist-packages (2.32.3)\n",
            "Requirement already satisfied: streamlit in /usr/local/lib/python3.11/dist-packages (1.45.1)\n",
            "Collecting pyngrok\n",
            "  Downloading pyngrok-7.2.9-py3-none-any.whl.metadata (9.3 kB)\n",
            "Requirement already satisfied: charset-normalizer<4,>=2 in /usr/local/lib/python3.11/dist-packages (from requests) (3.4.2)\n",
            "Requirement already satisfied: idna<4,>=2.5 in /usr/local/lib/python3.11/dist-packages (from requests) (3.10)\n",
            "Requirement already satisfied: urllib3<3,>=1.21.1 in /usr/local/lib/python3.11/dist-packages (from requests) (2.4.0)\n",
            "Requirement already satisfied: certifi>=2017.4.17 in /usr/local/lib/python3.11/dist-packages (from requests) (2025.4.26)\n",
            "Requirement already satisfied: altair<6,>=4.0 in /usr/local/lib/python3.11/dist-packages (from streamlit) (5.5.0)\n",
            "Requirement already satisfied: blinker<2,>=1.5.0 in /usr/local/lib/python3.11/dist-packages (from streamlit) (1.9.0)\n",
            "Requirement already satisfied: cachetools<6,>=4.0 in /usr/local/lib/python3.11/dist-packages (from streamlit) (5.5.2)\n",
            "Requirement already satisfied: click<9,>=7.0 in /usr/local/lib/python3.11/dist-packages (from streamlit) (8.2.1)\n",
            "Requirement already satisfied: numpy<3,>=1.23 in /usr/local/lib/python3.11/dist-packages (from streamlit) (2.0.2)\n",
            "Requirement already satisfied: packaging<25,>=20 in /usr/local/lib/python3.11/dist-packages (from streamlit) (24.2)\n",
            "Requirement already satisfied: pandas<3,>=1.4.0 in /usr/local/lib/python3.11/dist-packages (from streamlit) (2.2.2)\n",
            "Requirement already satisfied: pillow<12,>=7.1.0 in /usr/local/lib/python3.11/dist-packages (from streamlit) (11.2.1)\n",
            "Requirement already satisfied: protobuf<7,>=3.20 in /usr/local/lib/python3.11/dist-packages (from streamlit) (5.29.4)\n",
            "Requirement already satisfied: pyarrow>=7.0 in /usr/local/lib/python3.11/dist-packages (from streamlit) (18.1.0)\n",
            "Requirement already satisfied: tenacity<10,>=8.1.0 in /usr/local/lib/python3.11/dist-packages (from streamlit) (9.1.2)\n",
            "Requirement already satisfied: toml<2,>=0.10.1 in /usr/local/lib/python3.11/dist-packages (from streamlit) (0.10.2)\n",
            "Requirement already satisfied: typing-extensions<5,>=4.4.0 in /usr/local/lib/python3.11/dist-packages (from streamlit) (4.13.2)\n",
            "Requirement already satisfied: watchdog<7,>=2.1.5 in /usr/local/lib/python3.11/dist-packages (from streamlit) (6.0.0)\n",
            "Requirement already satisfied: gitpython!=3.1.19,<4,>=3.0.7 in /usr/local/lib/python3.11/dist-packages (from streamlit) (3.1.44)\n",
            "Requirement already satisfied: pydeck<1,>=0.8.0b4 in /usr/local/lib/python3.11/dist-packages (from streamlit) (0.9.1)\n",
            "Requirement already satisfied: tornado<7,>=6.0.3 in /usr/local/lib/python3.11/dist-packages (from streamlit) (6.4.2)\n",
            "Requirement already satisfied: PyYAML>=5.1 in /usr/local/lib/python3.11/dist-packages (from pyngrok) (6.0.2)\n",
            "Requirement already satisfied: jinja2 in /usr/local/lib/python3.11/dist-packages (from altair<6,>=4.0->streamlit) (3.1.6)\n",
            "Requirement already satisfied: jsonschema>=3.0 in /usr/local/lib/python3.11/dist-packages (from altair<6,>=4.0->streamlit) (4.23.0)\n",
            "Requirement already satisfied: narwhals>=1.14.2 in /usr/local/lib/python3.11/dist-packages (from altair<6,>=4.0->streamlit) (1.40.0)\n",
            "Requirement already satisfied: gitdb<5,>=4.0.1 in /usr/local/lib/python3.11/dist-packages (from gitpython!=3.1.19,<4,>=3.0.7->streamlit) (4.0.12)\n",
            "Requirement already satisfied: python-dateutil>=2.8.2 in /usr/local/lib/python3.11/dist-packages (from pandas<3,>=1.4.0->streamlit) (2.9.0.post0)\n",
            "Requirement already satisfied: pytz>=2020.1 in /usr/local/lib/python3.11/dist-packages (from pandas<3,>=1.4.0->streamlit) (2025.2)\n",
            "Requirement already satisfied: tzdata>=2022.7 in /usr/local/lib/python3.11/dist-packages (from pandas<3,>=1.4.0->streamlit) (2025.2)\n",
            "Requirement already satisfied: smmap<6,>=3.0.1 in /usr/local/lib/python3.11/dist-packages (from gitdb<5,>=4.0.1->gitpython!=3.1.19,<4,>=3.0.7->streamlit) (5.0.2)\n",
            "Requirement already satisfied: MarkupSafe>=2.0 in /usr/local/lib/python3.11/dist-packages (from jinja2->altair<6,>=4.0->streamlit) (3.0.2)\n",
            "Requirement already satisfied: attrs>=22.2.0 in /usr/local/lib/python3.11/dist-packages (from jsonschema>=3.0->altair<6,>=4.0->streamlit) (25.3.0)\n",
            "Requirement already satisfied: jsonschema-specifications>=2023.03.6 in /usr/local/lib/python3.11/dist-packages (from jsonschema>=3.0->altair<6,>=4.0->streamlit) (2025.4.1)\n",
            "Requirement already satisfied: referencing>=0.28.4 in /usr/local/lib/python3.11/dist-packages (from jsonschema>=3.0->altair<6,>=4.0->streamlit) (0.36.2)\n",
            "Requirement already satisfied: rpds-py>=0.7.1 in /usr/local/lib/python3.11/dist-packages (from jsonschema>=3.0->altair<6,>=4.0->streamlit) (0.25.1)\n",
            "Requirement already satisfied: six>=1.5 in /usr/local/lib/python3.11/dist-packages (from python-dateutil>=2.8.2->pandas<3,>=1.4.0->streamlit) (1.17.0)\n",
            "Downloading pyngrok-7.2.9-py3-none-any.whl (25 kB)\n",
            "Installing collected packages: pyngrok\n",
            "Successfully installed pyngrok-7.2.9\n"
          ]
        }
      ]
    },
    {
      "cell_type": "code",
      "source": [
        "# Authenticate ngrok with your authtoken\n",
        "# IMPORTANT: Replace YOUR_NGROK_AUTHTOKEN_HERE with your actual ngrok authtoken\n",
        "from pyngrok import ngrok\n",
        "ngrok.set_auth_token(\"2xuatcbmHbDx33buojBGNGUkDGn_4ovYEiwmVDLXDwBC4eFFc\")"
      ],
      "metadata": {
        "colab": {
          "base_uri": "https://localhost:8080/"
        },
        "id": "WwQDrlSw03Hr",
        "outputId": "524e8103-23dc-4aa7-a578-94ce9c630652"
      },
      "execution_count": null,
      "outputs": [
        {
          "output_type": "stream",
          "name": "stdout",
          "text": []
        }
      ]
    },
    {
      "cell_type": "code",
      "source": [
        "# Create the .streamlit directory\n",
        "!mkdir -p .streamlit\n",
        "\n",
        "# Create the secrets.toml file with your Spoonacular API key\n",
        "# IMPORTANT: Replace \"YOUR_ACTUAL_SPOONACULAR_API_KEY_HERE\" with your Spoonacular key!\n",
        "!echo 'SPOONACULAR_API_KEY = \"33323d39b2d54c42ba326fc2ec35cf32\"' > .streamlit/secrets.toml\n",
        "\n",
        "# (Optional) Verify the content of the secrets.toml file\n",
        "print(\"Content of .streamlit/secrets.toml:\")\n",
        "!cat .streamlit/secrets.toml"
      ],
      "metadata": {
        "colab": {
          "base_uri": "https://localhost:8080/"
        },
        "id": "1Pm6H3bp1ARE",
        "outputId": "dab05fa2-da70-4adc-8160-d304377b5348"
      },
      "execution_count": null,
      "outputs": [
        {
          "output_type": "stream",
          "name": "stdout",
          "text": [
            "Content of .streamlit/secrets.toml:\n",
            "SPOONACULAR_API_KEY = \"33323d39b2d54c42ba326fc2ec35cf32\"\n"
          ]
        }
      ]
    },
    {
      "cell_type": "code",
      "source": [
       %%writefile recipe_app.py
import streamlit as st
import requests
import json

# --- Configuration ---
API_KEY = st.secrets["SPOONACULAR_API_KEY"]
BASE_URL = "https://api.spoonacular.com/"
RESULTS_PER_PAGE = 10 # Define how many recipes to fetch per "Load More" click

# --- Spoonacular API Functions ---

def search_recipes(query, number=RESULTS_PER_PAGE, offset=0):
    """Searches for recipes by name with pagination."""
    endpoint = "recipes/complexSearch"
    params = {
        "query": query,
        "number": number,
        "offset": offset, # Add offset for pagination
        "apiKey": API_KEY
    }
    try:
        response = requests.get(f"{BASE_URL}{endpoint}", params=params)
        response.raise_for_status() # Raise an exception for HTTP errors
        return response.json().get("results", [])
    except requests.exceptions.RequestException as e:
        st.error(f"Error searching for recipes: {e}")
        return []

def get_recipe_details(recipe_id):
    """Fetches detailed information for a specific recipe."""
    endpoint = f"recipes/{recipe_id}/information"
    params = {
        "includeNutrition": True, # Get nutrition data for calories
        "apiKey": API_KEY
    }
    try:
        response = requests.get(f"{BASE_URL}{endpoint}", params=params)
        response.raise_for_status()
        return response.json()
    except requests.exceptions.RequestException as e:
        st.error(f"Error fetching recipe details: {e}")
        return None

def get_similar_recipes(recipe_id, number=5):
    """Fetches similar recipes for a given recipe ID."""
    endpoint = f"recipes/{recipe_id}/similar"
    params = {
        "number": number, # Number of similar recipes to return
        "apiKey": API_KEY
    }
    try:
        response = requests.get(f"{BASE_URL}{endpoint}", params=params)
        response.raise_for_status()
        return response.json()
    except requests.exceptions.RequestException as e:
        st.error(f"Error fetching similar recipes: {e}")
        return []

# --- Streamlit UI Layout ---

st.set_page_config(page_title="Python Recipe Finder", layout="centered")

st.title("🍜 Python Recipe Finder")

# --- Session State Initialization ---
if 'current_page' not in st.session_state:
    st.session_state.current_page = "search_input"
if 'search_query' not in st.session_state:
    st.session_state.search_query = ""
if 'selected_recipe_id' not in st.session_state:
    st.session_state.selected_recipe_id = None
if 'list_type' not in st.session_state:
    st.session_state.list_type = "search" # Can be "search" or "similar"
if 'last_viewed_recipe_id' not in st.session_state:
    st.session_state.last_viewed_recipe_id = None
if 'current_offset' not in st.session_state: # For pagination in main search
    st.session_state.current_offset = 0
if 'all_search_results' not in st.session_state: # To store all loaded recipes for current search
    st.session_state.all_search_results = []


# --- Navigation and Display Logic ---

# Handle user input and initial search
if st.session_state.current_page == "search_input":
    recipe_name_input = st.text_input(
        "Enter a recipe name (e.g., pasta, chicken soup)",
        value=st.session_state.search_query,
        key="recipe_name_input"
    )

    if st.button("Search Recipes"):
        if recipe_name_input:
            st.session_state.search_query = recipe_name_input
            st.session_state.list_type = "search"
            st.session_state.current_offset = 0 # Reset offset for new search
            st.session_state.all_search_results = [] # Clear previous results
            st.session_state.current_page = "search_results"
            st.rerun()
        else:
            st.warning("Please enter a recipe name to search.")
    st.info("Enter a recipe name above and click 'Search Recipes' to find recipes.")

# Display search results (either original search or similar recipes)
elif st.session_state.current_page == "search_results":
    if st.session_state.list_type == "search":
        st.subheader(f"Search Results for '{st.session_state.search_query}'")
        # Fetch initial or next batch of results
        if not st.session_state.all_search_results or st.session_state.current_offset >= len(st.session_state.all_search_results):
            new_recipes = search_recipes(st.session_state.search_query, offset=st.session_state.current_offset)
            # Append new results to the overall list only if they are truly new
            # This prevents duplicates if reruns happen without button clicks or if API returns same items
            current_ids = {r['id'] for r in st.session_state.all_search_results}
            unique_new_recipes = [nr for nr in new_recipes if nr['id'] not in current_ids]
            st.session_state.all_search_results.extend(unique_new_recipes)

            if not new_recipes and st.session_state.current_offset > 0:
                st.info("No more recipes found for this search.")

        recipes_to_display = st.session_state.all_search_results

    elif st.session_state.list_type == "similar":
        original_recipe_details = get_recipe_details(st.session_state.last_viewed_recipe_id)
        original_title = original_recipe_details.get('title', 'a recipe') if original_recipe_details else 'a recipe'
        st.subheader(f"Similar Recipes to '{original_title}'")
        recipes_to_display = get_similar_recipes(st.session_state.last_viewed_recipe_id)
        # Similar recipes don't have pagination, so no load/previous buttons for them.

    if recipes_to_display:
        # Display recipes relevant to the current offset
        start_index = st.session_state.current_offset
        end_index = start_index + RESULTS_PER_PAGE
        current_batch_to_show = recipes_to_display[start_index:end_index]

        if not current_batch_to_show and start_index > 0: # This means we went past the end of available recipes
             st.info("You've reached the end of the recipes for this search.")
             # Adjust offset back to show the last available batch if we overshot
             st.session_state.current_offset = max(0, len(recipes_to_display) - RESULTS_PER_PAGE)
             current_batch_to_show = recipes_to_display[st.session_state.current_offset:st.session_state.current_offset + RESULTS_PER_PAGE]


        for recipe in current_batch_to_show:
            col1, col2 = st.columns([3, 1])
            with col1:
                st.write(f"**{recipe['title']}**")
                if 'readyInMinutes' in recipe:
                    st.write(f"*{recipe['readyInMinutes']} minutes*}")
            with col2:
                if st.button("View Details", key=f"view_{recipe['id']}_{st.session_state.list_type}_{st.session_state.current_offset}"):
                    st.session_state.selected_recipe_id = recipe['id']
                    st.session_state.current_page = "recipe_details"
                    st.rerun()
        st.markdown("---")

        # Pagination and Navigation Buttons for main search results
        if st.session_state.list_type == "search":
            col_prev, col_main_nav, col_next = st.columns(3)

            with col_prev:
                if st.session_state.current_offset > 0:
                    if st.button("Previous Recipes", key="previous_recipes"):
                        st.session_state.current_offset = max(0, st.session_state.current_offset - RESULTS_PER_PAGE)
                        st.rerun()

            with col_main_nav:
                # Optional: Add a page number indicator
                current_page_num = (st.session_state.current_offset // RESULTS_PER_PAGE) + 1
                total_pages = (len(recipes_to_display) + RESULTS_PER_PAGE - 1) // RESULTS_PER_PAGE # Rough estimate
                st.write(f"Page {current_page_num}") # / ~{total_pages} (if we had totalResults count)

            with col_next:
                # Only show load more if we haven't loaded all available recipes yet AND there are more to show
                # The API response doesn't give totalResults easily, so we rely on whether the last fetch was empty
                if len(current_batch_to_show) == RESULTS_PER_PAGE :
                    if st.button("Load More Recipes", key="load_more_recipes"):
                        st.session_state.current_offset += RESULTS_PER_PAGE
                        st.rerun()

        # Back to Search Input or Details button (always available regardless of list type)
        if st.session_state.list_type == "search":
            if st.button("Start New Search", key="start_new_search_from_results_bottom"):
                st.session_state.current_page = "search_input"
                st.session_state.search_query = ""
                st.session_state.current_offset = 0
                st.session_state.all_search_results = []
                st.session_state.last_viewed_recipe_id = None
                st.rerun()
        elif st.session_state.list_type == "similar":
             if st.button("Back to Recipe Details", key="back_to_details_from_similar_bottom"):
                st.session_state.current_page = "recipe_details"
                st.session_state.list_type = "search"
                st.rerun()

    else: # No recipes found in current display (either search or similar)
        st.info(f"No {st.session_state.list_type} recipes found for your query/selection. Try a different one.")
        if st.session_state.list_type == "search":
            if st.button("Start New Search", key="start_new_search_no_results"):
                st.session_state.current_page = "search_input"
                st.session_state.search_query = ""
                st.session_state.current_offset = 0
                st.session_state.all_search_results = []
                st.session_state.last_viewed_recipe_id = None
                st.rerun()
        elif st.session_state.list_type == "similar":
            if st.button("Back to Recipe Details", key="back_to_details_no_similar"):
                st.session_state.current_page = "recipe_details"
                st.session_state.list_type = "search"
                st.rerun()
    {
      "cell_type": "markdown",
      "source": [
        "it is working fine"
      ],
      "metadata": {
        "id": "W7VVKtEi18mC"
      }
    },
    {
      "cell_type": "code",
      "source": [],
      "metadata": {
        "id": "I6t1z8fCkiLK"
      },
      "execution_count": null,
      "outputs": []
    }
  ],
  "metadata": {
    "colab": {
      "provenance": []
    },
    "kernelspec": {
      "display_name": "Python 3",
      "name": "python3"
    },
    "language_info": {
      "name": "python"
    }
  },
  "nbformat": 4,
  "nbformat_minor": 0
}
